{
 "cells": [
  {
   "cell_type": "code",
   "execution_count": 3,
   "id": "f6978f9a-0d5f-43a4-bca1-683090396666",
   "metadata": {},
   "outputs": [],
   "source": [
    "import numpy as np"
   ]
  },
  {
   "cell_type": "code",
   "execution_count": 7,
   "id": "4372a849-525a-4c82-a8ac-9ecb66159f6a",
   "metadata": {},
   "outputs": [
    {
     "name": "stdout",
     "output_type": "stream",
     "text": [
      "<class 'list'>\n",
      "<class 'numpy.ndarray'>\n"
     ]
    }
   ],
   "source": [
    "l=[1,2,3,4,5,6]\n",
    "print (type(l))\n",
    "arr=np.array(l)\n",
    "print (type(arr))"
   ]
  },
  {
   "cell_type": "code",
   "execution_count": 9,
   "id": "26bca883-b35a-4e19-989b-c4a4451cb66f",
   "metadata": {},
   "outputs": [],
   "source": [
    "#### creating a sample array in numpy"
   ]
  },
  {
   "cell_type": "code",
   "execution_count": 11,
   "id": "d4ec346a-027a-423f-a770-419b03c1fa39",
   "metadata": {},
   "outputs": [
    {
     "name": "stdout",
     "output_type": "stream",
     "text": [
      "[1 2 3 4]\n",
      "<class 'numpy.ndarray'>\n"
     ]
    }
   ],
   "source": [
    "arr=np.array([1,2,3,4])\n",
    "print (arr)\n",
    "print (type(arr))"
   ]
  },
  {
   "cell_type": "code",
   "execution_count": 53,
   "id": "27a1bce9-d5c1-4230-bb50-29d1a89cb4b2",
   "metadata": {},
   "outputs": [
    {
     "name": "stdout",
     "output_type": "stream",
     "text": [
      "1\n",
      "(6,)\n",
      "6\n",
      "int32\n",
      "4\n"
     ]
    }
   ],
   "source": [
    "arr=np.array([1,2,3,4,5,6])\n",
    "print (arr.ndim) # to no.dimensions\n",
    "print (arr.shape)#to know shape of aaray\n",
    "print (len(arr))#to know length of aaray\n",
    "print (arr.dtype)#to know d.type\n",
    "print (arr.itemsize)# to know size of aaray"
   ]
  },
  {
   "cell_type": "code",
   "execution_count": 61,
   "id": "06553dd1-7b82-4a09-a93b-4d2d142c8a48",
   "metadata": {},
   "outputs": [
    {
     "name": "stdout",
     "output_type": "stream",
     "text": [
      "2\n",
      "(2, 6)\n",
      "2\n",
      "int32\n",
      "4\n"
     ]
    }
   ],
   "source": [
    "arr=np.array([[1,2,3,4,5,6],[7,8,9,1,5,8]])\n",
    "print (arr.ndim) # to no.dimensions\n",
    "print (arr.shape)#to know shape of aaray\n",
    "print (len(arr))#to know length of aaray\n",
    "print (arr.dtype)#to know d.type\n",
    "print (arr.itemsize)# to know size of aaray"
   ]
  },
  {
   "cell_type": "markdown",
   "id": "0a2477b4-e3f3-44af-9630-1dfbd058f218",
   "metadata": {},
   "source": [
    "###### functions for creating Array"
   ]
  },
  {
   "cell_type": "code",
   "execution_count": 99,
   "id": "b68b14be-67b5-4d7d-bd62-800dad09e68f",
   "metadata": {},
   "outputs": [
    {
     "name": "stdout",
     "output_type": "stream",
     "text": [
      "[[1. 1. 1. 1.]\n",
      " [1. 1. 1. 1.]\n",
      " [1. 1. 1. 1.]\n",
      " [1. 1. 1. 1.]]\n",
      "float64\n",
      "8\n"
     ]
    }
   ],
   "source": [
    "arr=np.ones((4,4))\n",
    "print (arr)\n",
    "print (arr.dtype)\n",
    "print (arr.itemsize)"
   ]
  },
  {
   "cell_type": "code",
   "execution_count": 87,
   "id": "a89b5717-3af2-48d9-bc31-038187c3f53c",
   "metadata": {},
   "outputs": [
    {
     "name": "stdout",
     "output_type": "stream",
     "text": [
      "[[1. 0. 0.]\n",
      " [0. 1. 0.]\n",
      " [0. 0. 1.]]\n"
     ]
    }
   ],
   "source": [
    "arr=np.eye (3)  #identity matrix\n",
    "print (arr)"
   ]
  },
  {
   "cell_type": "code",
   "execution_count": 5,
   "id": "08ab3ee9-e1a9-4c5f-8b4f-f10dd1183ee2",
   "metadata": {},
   "outputs": [],
   "source": [
    "import numpy as np"
   ]
  },
  {
   "cell_type": "code",
   "execution_count": 11,
   "id": "0b4a12b4-0d68-4815-9a9e-c3d637cb05c0",
   "metadata": {},
   "outputs": [
    {
     "name": "stdout",
     "output_type": "stream",
     "text": [
      "[0 1 2 3 4 5 6 7 8 9]\n",
      "<class 'numpy.ndarray'>\n"
     ]
    }
   ],
   "source": [
    "arr =np.arange (10)\n",
    "print (arr)\n",
    "print (type(arr))"
   ]
  },
  {
   "cell_type": "code",
   "execution_count": 15,
   "id": "2cd82365-9bba-4c03-a5ec-104608f46927",
   "metadata": {},
   "outputs": [],
   "source": [
    "#### arrange values by choice"
   ]
  },
  {
   "cell_type": "code",
   "execution_count": 21,
   "id": "b2c33618-adbb-40e5-82dc-ad355bf8b7ac",
   "metadata": {},
   "outputs": [
    {
     "name": "stdout",
     "output_type": "stream",
     "text": [
      "[0 1 2 3 4 5 6 7 8 9]\n"
     ]
    }
   ],
   "source": [
    "arr=np.arange(10) # it takes by index values\n",
    "print (arr)"
   ]
  },
  {
   "cell_type": "code",
   "execution_count": 25,
   "id": "e1b4e211-c1e8-442c-8f6a-b0fbcc58307f",
   "metadata": {},
   "outputs": [
    {
     "name": "stdout",
     "output_type": "stream",
     "text": [
      "[10 11 12 13 14 15 16 17 18 19 20 21 22 23 24 25 26 27 28 29 30 31 32 33\n",
      " 34 35 36 37 38 39 40 41 42 43 44 45 46 47 48 49 50 51 52 53 54 55 56 57\n",
      " 58 59 60 61 62 63 64 65 66 67 68 69 70 71 72 73 74 75 76 77 78 79 80 81\n",
      " 82 83 84 85 86 87 88 89 90 91 92 93 94 95 96 97 98 99]\n"
     ]
    }
   ],
   "source": [
    "arr=np.arange (10,100)\n",
    "print (arr)"
   ]
  },
  {
   "cell_type": "code",
   "execution_count": 17,
   "id": "dcf00bae-fdfd-4224-93c5-27b4d81d7b37",
   "metadata": {},
   "outputs": [
    {
     "name": "stdout",
     "output_type": "stream",
     "text": [
      "[10 15 20 25 30 35 40 45 50 55 60 65 70 75 80 85 90 95]\n",
      "<class 'numpy.ndarray'>\n"
     ]
    }
   ],
   "source": [
    "arr =np.arange (10,100,5) #10,100 in b/w  we skips 5 \n",
    "print (arr)\n",
    "print (type(arr))"
   ]
  },
  {
   "cell_type": "markdown",
   "id": "909e521e-e1b5-4a66-a94e-f5ec7b4709fc",
   "metadata": {},
   "source": [
    "#### random numbers\""
   ]
  },
  {
   "cell_type": "code",
   "execution_count": 34,
   "id": "4035baa5-9c6a-4422-a158-eee27446d432",
   "metadata": {},
   "outputs": [
    {
     "name": "stdout",
     "output_type": "stream",
     "text": [
      "[0.61015729 0.15864576 0.95730136 0.64880909 0.18092223 0.61659805\n",
      " 0.90684611 0.81143363 0.12042803 0.25902976]\n"
     ]
    }
   ],
   "source": [
    "arr=np.random.rand(10) # it'll gives only 0,1 in b/w values\n",
    "print (arr)"
   ]
  },
  {
   "cell_type": "code",
   "execution_count": 36,
   "id": "20a0d0ca-5541-4040-b971-3a8b373573f3",
   "metadata": {},
   "outputs": [],
   "source": [
    "#### numpy slicing"
   ]
  },
  {
   "cell_type": "code",
   "execution_count": 55,
   "id": "acaad4e4-6a1b-4b46-87d3-5efe9f41ce69",
   "metadata": {},
   "outputs": [
    {
     "name": "stdout",
     "output_type": "stream",
     "text": [
      "[0 1 2 3 4 5 6 7 8 9]\n",
      "[0 3 6 9]\n"
     ]
    }
   ],
   "source": [
    "arr=np.arange (10)\n",
    "print (arr)\n",
    "print (arr[::3]) # stepping fun "
   ]
  },
  {
   "cell_type": "code",
   "execution_count": 57,
   "id": "885c97d5-23ee-4d1f-b6cb-b6ddb825d8a0",
   "metadata": {},
   "outputs": [],
   "source": [
    "##### mathemaatical operation in numpy\n"
   ]
  },
  {
   "cell_type": "code",
   "execution_count": 61,
   "id": "99e3f2e2-a4ca-4c3d-a174-52a262f0c400",
   "metadata": {},
   "outputs": [
    {
     "name": "stdout",
     "output_type": "stream",
     "text": [
      "[[ 5 10]\n",
      " [12 17]]\n"
     ]
    }
   ],
   "source": [
    "x=([[2,4],[5,8]])\n",
    "y=([[3,6],[7,9]])\n",
    "print (np.add(x,y))"
   ]
  },
  {
   "cell_type": "code",
   "execution_count": 63,
   "id": "357c5057-8639-44f6-83fa-ea1acf486e43",
   "metadata": {},
   "outputs": [
    {
     "name": "stdout",
     "output_type": "stream",
     "text": [
      "[[-1 -2]\n",
      " [-2 -1]]\n"
     ]
    }
   ],
   "source": [
    "x=([[2,4],[5,8]])\n",
    "y=([[3,6],[7,9]])\n",
    "print (np.subtract(x,y))\n"
   ]
  },
  {
   "cell_type": "code",
   "execution_count": 65,
   "id": "907a9d0e-ed87-4de1-b2ba-fc4926ce8315",
   "metadata": {},
   "outputs": [
    {
     "name": "stdout",
     "output_type": "stream",
     "text": [
      "[[ 6 24]\n",
      " [35 72]]\n"
     ]
    }
   ],
   "source": [
    "x=([[2,4],[5,8]])\n",
    "y=([[3,6],[7,9]])\n",
    "print (np.multiply(x,y))"
   ]
  },
  {
   "cell_type": "code",
   "execution_count": 67,
   "id": "98dd1788-734d-469b-8452-316bc448022d",
   "metadata": {},
   "outputs": [
    {
     "name": "stdout",
     "output_type": "stream",
     "text": [
      "[[0.66666667 0.66666667]\n",
      " [0.71428571 0.88888889]]\n"
     ]
    }
   ],
   "source": [
    "x=([[2,4],[5,8]])\n",
    "y=([[3,6],[7,9]])\n",
    "print (np.divide(x,y))"
   ]
  },
  {
   "cell_type": "code",
   "execution_count": 5,
   "id": "5b123615-2f75-4510-a051-cccb206292aa",
   "metadata": {},
   "outputs": [],
   "source": [
    "import numpy as np"
   ]
  },
  {
   "cell_type": "code",
   "execution_count": 13,
   "id": "79c9b638-6cd9-4818-a6b4-2aaea7a4bf15",
   "metadata": {},
   "outputs": [
    {
     "name": "stdout",
     "output_type": "stream",
     "text": [
      "10\n"
     ]
    }
   ],
   "source": [
    "x=np.array ([[1,2],[3,4]])\n",
    "print (np.sum(x))        "
   ]
  },
  {
   "cell_type": "code",
   "execution_count": 15,
   "id": "c565b9f3-38c9-4447-b47c-38249641cedb",
   "metadata": {},
   "outputs": [
    {
     "name": "stdout",
     "output_type": "stream",
     "text": [
      "[4 6]\n"
     ]
    }
   ],
   "source": [
    "x=np.array ([[1,2],[3,4]])\n",
    "print (np.sum(x,axis=0))  #axis=0  means column wise operation"
   ]
  },
  {
   "cell_type": "code",
   "execution_count": 17,
   "id": "e5ba977e-a389-4633-91f7-8a7005f6a399",
   "metadata": {},
   "outputs": [
    {
     "name": "stdout",
     "output_type": "stream",
     "text": [
      "[3 7]\n"
     ]
    }
   ],
   "source": [
    "x=np.array ([[1,2],[3,4]])\n",
    "print (np.sum(x,axis=1)) # axis=1   means row wise operation"
   ]
  },
  {
   "cell_type": "code",
   "execution_count": 19,
   "id": "471c66b5-7e6d-45ce-b9d2-a614f4658bcc",
   "metadata": {},
   "outputs": [
    {
     "name": "stdout",
     "output_type": "stream",
     "text": [
      "1\n"
     ]
    }
   ],
   "source": [
    "x=np.array ([[1,2],[3,4]])\n",
    "print (np.min(x))        "
   ]
  },
  {
   "cell_type": "code",
   "execution_count": 21,
   "id": "79790f78-e800-4530-855e-8e31a85c8d0f",
   "metadata": {},
   "outputs": [
    {
     "name": "stdout",
     "output_type": "stream",
     "text": [
      "4\n"
     ]
    }
   ],
   "source": [
    "x=np.array ([[1,2],[3,4]])\n",
    "print (np.max(x))        "
   ]
  },
  {
   "cell_type": "markdown",
   "id": "22297a39-8287-44fd-b074-e718f3d124c5",
   "metadata": {},
   "source": [
    "##### transpose"
   ]
  },
  {
   "cell_type": "code",
   "execution_count": 28,
   "id": "7b2bad38-b47a-4119-bb4d-458197b1adcb",
   "metadata": {},
   "outputs": [
    {
     "name": "stdout",
     "output_type": "stream",
     "text": [
      "[[1 3]\n",
      " [2 4]]\n"
     ]
    }
   ],
   "source": [
    "x=np.array ([[1,2],[3,4]]) # rows into cloumn, col into row\n",
    "print (x.T)        "
   ]
  },
  {
   "cell_type": "markdown",
   "id": "31f84699-2398-4415-a74a-5a2e7aab8f8b",
   "metadata": {},
   "source": [
    "##### numpy reshape"
   ]
  },
  {
   "cell_type": "code",
   "execution_count": 59,
   "id": "493a5ac2-f04f-43cb-8140-96ec5fb0e889",
   "metadata": {},
   "outputs": [],
   "source": [
    "import numpy as np"
   ]
  },
  {
   "cell_type": "code",
   "execution_count": 37,
   "id": "74101bc9-ddc8-4e8b-9f3d-4f4e106a5951",
   "metadata": {},
   "outputs": [
    {
     "name": "stdout",
     "output_type": "stream",
     "text": [
      "[ 0  4  8 12 16 20 24 28 32 36 40 44 48]\n"
     ]
    }
   ],
   "source": [
    "arr=np.arange(0,50,4)\n",
    "print (arr)"
   ]
  },
  {
   "cell_type": "code",
   "execution_count": 84,
   "id": "56ec60f9-0ba6-4423-9a10-f0191952838b",
   "metadata": {},
   "outputs": [
    {
     "name": "stdout",
     "output_type": "stream",
     "text": [
      "[  5.          15.55555556  26.11111111  36.66666667  47.22222222\n",
      "  57.77777778  68.33333333  78.88888889  89.44444444 100.        ]\n"
     ]
    }
   ],
   "source": [
    "print (np.linspace(5,100,10))  # used to dive numbers equally "
   ]
  },
  {
   "cell_type": "code",
   "execution_count": 100,
   "id": "86302553-9a42-4ce1-b371-75dc103f90c8",
   "metadata": {},
   "outputs": [],
   "source": [
    "#######Sorting"
   ]
  },
  {
   "cell_type": "code",
   "execution_count": 108,
   "id": "70a3d30d-4647-46a9-b3df-e49a3b189dfe",
   "metadata": {},
   "outputs": [
    {
     "name": "stdout",
     "output_type": "stream",
     "text": [
      "[[55 91 51 53 70 71 59 67 55 73]\n",
      " [69 80 85 85 86 72 86 55 98 79]\n",
      " [63 52 69 53 73 62 58 50 99 58]\n",
      " [56 65 99 96 73 72 74 59 94 82]\n",
      " [66 78 96 54 75 73 52 58 55 54]]\n",
      "*****************************************\n"
     ]
    },
    {
     "data": {
      "text/plain": [
       "array([[51, 53, 55, 55, 59, 67, 70, 71, 73, 91],\n",
       "       [55, 69, 72, 79, 80, 85, 85, 86, 86, 98],\n",
       "       [50, 52, 53, 58, 58, 62, 63, 69, 73, 99],\n",
       "       [56, 59, 65, 72, 73, 74, 82, 94, 96, 99],\n",
       "       [52, 54, 54, 55, 58, 66, 73, 75, 78, 96]])"
      ]
     },
     "execution_count": 108,
     "metadata": {},
     "output_type": "execute_result"
    }
   ],
   "source": [
    "arr=np.random.randint(50,100,(5,10))\n",
    "print (arr)\n",
    "np.sort(arr,axis=0)\n",
    "print (\"*****************************************\")\n",
    "np.sort(arr,axis=1)"
   ]
  },
  {
   "cell_type": "code",
   "execution_count": 134,
   "id": "712be9d1-53cb-4070-a430-15c8e71bd580",
   "metadata": {},
   "outputs": [],
   "source": [
    "#### stack arange in vertical & horizontal - to find something or to search"
   ]
  },
  {
   "cell_type": "code",
   "execution_count": 124,
   "id": "9c54ae8c-fd92-4ce0-a7e0-fb58247fee9c",
   "metadata": {},
   "outputs": [
    {
     "name": "stdout",
     "output_type": "stream",
     "text": [
      "[[65 61 72 74 74 65 87 68 59 66]\n",
      " [87 59 79 70 73 88 85 62 97 89]\n",
      " [82 79 53 72 88 61 84 98 69 71]\n",
      " [97 71 80 99 77 81 80 92 55 66]\n",
      " [67 69 99 53 60 93 67 55 50 51]]\n"
     ]
    },
    {
     "data": {
      "text/plain": [
       "array([[ 0, 61,  0,  0,  0,  0,  0,  0, 59,  0],\n",
       "       [ 0, 59,  0,  0,  0,  0,  0, 62,  0,  0],\n",
       "       [ 0,  0, 53,  0,  0, 61,  0,  0,  0,  0],\n",
       "       [ 0,  0,  0,  0,  0,  0,  0,  0, 55,  0],\n",
       "       [ 0,  0,  0, 53, 60,  0,  0, 55, 50, 51]])"
      ]
     },
     "execution_count": 124,
     "metadata": {},
     "output_type": "execute_result"
    }
   ],
   "source": [
    "arr=np.random.randint(50,100,(5,10))\n",
    "print (arr)\n",
    "np.vstack(arr)\n",
    "np.where (arr>64,0,arr)"
   ]
  },
  {
   "cell_type": "code",
   "execution_count": 132,
   "id": "e55e69c8-9e9d-495e-a850-95cc4b20d2f4",
   "metadata": {},
   "outputs": [
    {
     "name": "stdout",
     "output_type": "stream",
     "text": [
      "[[62 68 80 80 96 70 97 84 66 56]\n",
      " [58 82 52 79 83 72 58 64 79 63]\n",
      " [73 50 70 68 82 76 89 58 61 78]\n",
      " [85 95 57 60 70 55 70 72 53 53]\n",
      " [62 59 61 79 51 85 50 70 69 78]]\n"
     ]
    },
    {
     "data": {
      "text/plain": [
       "array([[ 1,  1, 80, 80, 96, 70, 97, 84,  1,  1],\n",
       "       [ 1, 82,  1, 79, 83, 72,  1,  1, 79,  1],\n",
       "       [73,  1, 70,  1, 82, 76, 89,  1,  1, 78],\n",
       "       [85, 95,  1,  1, 70,  1, 70, 72,  1,  1],\n",
       "       [ 1,  1,  1, 79,  1, 85,  1, 70,  1, 78]])"
      ]
     },
     "execution_count": 132,
     "metadata": {},
     "output_type": "execute_result"
    }
   ],
   "source": [
    "arr=np.random.randint(50,100,(5,10))\n",
    "print (arr)\n",
    "np.hstack(arr)\n",
    "np.where(arr<70,1,arr)"
   ]
  }
 ],
 "metadata": {
  "kernelspec": {
   "display_name": "Python 3 (ipykernel)",
   "language": "python",
   "name": "python3"
  },
  "language_info": {
   "codemirror_mode": {
    "name": "ipython",
    "version": 3
   },
   "file_extension": ".py",
   "mimetype": "text/x-python",
   "name": "python",
   "nbconvert_exporter": "python",
   "pygments_lexer": "ipython3",
   "version": "3.12.4"
  }
 },
 "nbformat": 4,
 "nbformat_minor": 5
}
