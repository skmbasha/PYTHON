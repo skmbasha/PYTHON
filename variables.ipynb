{
 "cells": [
  {
   "cell_type": "markdown",
   "id": "323250e5-407e-4e10-a197-da42a7e6c2d1",
   "metadata": {},
   "source": [
    "#### global var\n",
    "#### local var"
   ]
  },
  {
   "cell_type": "code",
   "execution_count": 31,
   "id": "37405d7d-1f86-4586-96fc-47ecc5420c0d",
   "metadata": {},
   "outputs": [
    {
     "name": "stdout",
     "output_type": "stream",
     "text": [
      "200\n",
      "400\n",
      "300\n"
     ]
    }
   ],
   "source": [
    "a=200 ## g_var  , [able to print directly without fun calling]\n",
    "print (a)\n",
    "def f1 ():\n",
    "    b=400 # local_var [need to call by fun ,not able to print direct by variabl name]\n",
    "    print (b)\n",
    "def f2 () :\n",
    "    c=300\n",
    "    print (c)\n",
    "f1()\n",
    "f2()"
   ]
  },
  {
   "cell_type": "markdown",
   "id": "9ca584a1-9ae6-4318-abf0-39b2e10b67de",
   "metadata": {},
   "source": [
    "##### g_var into the fun "
   ]
  },
  {
   "cell_type": "code",
   "execution_count": 38,
   "id": "66f1f1c9-ebc5-4c8c-9352-c8e43dc9fae2",
   "metadata": {},
   "outputs": [
    {
     "name": "stdout",
     "output_type": "stream",
     "text": [
      "2000\n",
      "3000\n",
      "3000\n"
     ]
    }
   ],
   "source": [
    "x=2000\n",
    "print (x)\n",
    "def f2 () :\n",
    "    global x    # keyword\n",
    "    x=3000\n",
    "    print (x)\n",
    "f2()\n",
    "print (x)"
   ]
  },
  {
   "cell_type": "code",
   "execution_count": null,
   "id": "a5675b71-8c3e-45de-8bbd-29ec8f69b2f8",
   "metadata": {},
   "outputs": [],
   "source": []
  },
  {
   "cell_type": "code",
   "execution_count": null,
   "id": "f1db6b9b-eeab-4e5f-9bad-e564f1d3ad7d",
   "metadata": {},
   "outputs": [],
   "source": []
  },
  {
   "cell_type": "code",
   "execution_count": null,
   "id": "96978eef-7c27-4a40-8c05-81a7a691b617",
   "metadata": {},
   "outputs": [],
   "source": []
  },
  {
   "cell_type": "code",
   "execution_count": null,
   "id": "5ff7065c-29c8-4221-87a5-7daec7491522",
   "metadata": {},
   "outputs": [],
   "source": []
  },
  {
   "cell_type": "code",
   "execution_count": null,
   "id": "8fc519c6-b10d-4016-98b3-e87458d3e7f8",
   "metadata": {},
   "outputs": [],
   "source": []
  },
  {
   "cell_type": "code",
   "execution_count": null,
   "id": "f20d6c37-deed-492f-a662-f5732d888f1e",
   "metadata": {},
   "outputs": [],
   "source": []
  },
  {
   "cell_type": "code",
   "execution_count": null,
   "id": "a005532c-221f-4997-b61a-28c2d76da00f",
   "metadata": {},
   "outputs": [],
   "source": []
  },
  {
   "cell_type": "code",
   "execution_count": null,
   "id": "246a8a91-a8b0-4182-9d0a-269da68e3718",
   "metadata": {},
   "outputs": [],
   "source": []
  },
  {
   "cell_type": "code",
   "execution_count": null,
   "id": "beb42c17-4ea4-4433-9b2b-2aa12613df64",
   "metadata": {},
   "outputs": [],
   "source": []
  },
  {
   "cell_type": "code",
   "execution_count": null,
   "id": "bcbf40c3-1be1-4786-b58a-4bc10b8a0797",
   "metadata": {},
   "outputs": [],
   "source": []
  },
  {
   "cell_type": "code",
   "execution_count": null,
   "id": "c3a9aa37-c67e-4d8e-9a5d-5af8493fc865",
   "metadata": {},
   "outputs": [],
   "source": []
  }
 ],
 "metadata": {
  "kernelspec": {
   "display_name": "Python 3 (ipykernel)",
   "language": "python",
   "name": "python3"
  },
  "language_info": {
   "codemirror_mode": {
    "name": "ipython",
    "version": 3
   },
   "file_extension": ".py",
   "mimetype": "text/x-python",
   "name": "python",
   "nbconvert_exporter": "python",
   "pygments_lexer": "ipython3",
   "version": "3.12.4"
  }
 },
 "nbformat": 4,
 "nbformat_minor": 5
}
