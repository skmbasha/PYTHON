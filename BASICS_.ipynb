{
 "cells": [
  {
   "cell_type": "markdown",
   "id": "1c3315a4-f2fc-470a-9c7a-79871e0ec322",
   "metadata": {},
   "source": [
    "####  To know the adress "
   ]
  },
  {
   "cell_type": "code",
   "execution_count": 20,
   "id": "09d2cb66-948b-4ed8-92b7-92a49540a1c3",
   "metadata": {},
   "outputs": [
    {
     "name": "stdout",
     "output_type": "stream",
     "text": [
      "2693949143056\n"
     ]
    }
   ],
   "source": [
    "A=(\"basha\")\n",
    "print(id(A))"
   ]
  },
  {
   "cell_type": "markdown",
   "id": "d1498a68-129d-4e8e-981e-27635c1caf56",
   "metadata": {},
   "source": [
    "#### to know data type"
   ]
  },
  {
   "cell_type": "code",
   "execution_count": 23,
   "id": "6b936b48-ffc5-463f-b025-c35745d379cb",
   "metadata": {},
   "outputs": [
    {
     "name": "stdout",
     "output_type": "stream",
     "text": [
      "<class 'str'>\n"
     ]
    }
   ],
   "source": [
    "B=(\"10,20,basha\")\n",
    "print (type(B))"
   ]
  },
  {
   "cell_type": "markdown",
   "id": "6f744947-cf95-43d1-bdd0-feb891ff84e5",
   "metadata": {},
   "source": [
    "#### multi varaibles"
   ]
  },
  {
   "cell_type": "code",
   "execution_count": 28,
   "id": "e5f95df8-2c89-4554-bce9-a51f63e626d4",
   "metadata": {},
   "outputs": [
    {
     "name": "stdout",
     "output_type": "stream",
     "text": [
      "20\n",
      "40\n",
      "60\n",
      "80\n"
     ]
    }
   ],
   "source": [
    "A,B,C,D=20,40,60,80\n",
    "print(A)\n",
    "print(B)\n",
    "print(C)\n",
    "print(D)"
   ]
  },
  {
   "cell_type": "markdown",
   "id": "54c5ab00-4d2e-4aa5-b58d-47f4d125261a",
   "metadata": {},
   "source": [
    "### 1_ST CLASSIFICATIONS\n",
    "#### FUNDAMENTAL  D_TAPYES\n",
    "##### INT"
   ]
  },
  {
   "cell_type": "code",
   "execution_count": 38,
   "id": "3f28f7fb-cbe7-4086-96f6-024086c6e269",
   "metadata": {},
   "outputs": [
    {
     "name": "stdout",
     "output_type": "stream",
     "text": [
      "<class 'int'>\n"
     ]
    }
   ],
   "source": [
    "A=60      #it will takes both +vve and -ve values in int \n",
    "B=-45\n",
    "print(type(B))"
   ]
  },
  {
   "cell_type": "markdown",
   "id": "94a407ac-d3fa-4182-b895-d5c83c1f68b9",
   "metadata": {},
   "source": [
    "##### float"
   ]
  },
  {
   "cell_type": "code",
   "execution_count": 51,
   "id": "96c507e6-462b-4f99-a7c2-cb944fcd01d4",
   "metadata": {},
   "outputs": [
    {
     "name": "stdout",
     "output_type": "stream",
     "text": [
      "<class 'float'>\n"
     ]
    }
   ],
   "source": [
    "A= 6.6 #stores with decimals or fractions part\n",
    "B=7.28\n",
    "print(type(B))"
   ]
  },
  {
   "cell_type": "markdown",
   "id": "ab0c68df-3dbe-464b-8e64-4cdadc5d9c76",
   "metadata": {},
   "source": [
    "##### complex"
   ]
  },
  {
   "cell_type": "code",
   "execution_count": 56,
   "id": "f008cf10-9506-4060-b1ad-5cf57055438e",
   "metadata": {},
   "outputs": [
    {
     "name": "stdout",
     "output_type": "stream",
     "text": [
      "<class 'complex'>\n"
     ]
    }
   ],
   "source": [
    "A= 4+5J  # its in form of A+bj format \n",
    "b=7+9J   # here a is real part and , b is imaginary part\n",
    "print(type(A))"
   ]
  },
  {
   "cell_type": "markdown",
   "id": "0abb776a-197b-4b94-80e3-d868dd4183e7",
   "metadata": {},
   "source": [
    "##### boolein"
   ]
  },
  {
   "cell_type": "code",
   "execution_count": 70,
   "id": "c394859a-7133-415d-b362-389d5a5802ff",
   "metadata": {},
   "outputs": [
    {
     "name": "stdout",
     "output_type": "stream",
     "text": [
      "<class 'bool'>\n"
     ]
    }
   ],
   "source": [
    "A= True   # represents true or false values \n",
    "B= False\n",
    "print(type(A))"
   ]
  },
  {
   "cell_type": "markdown",
   "id": "854792a0-74a9-4920-afca-029eb16da9ac",
   "metadata": {},
   "source": [
    "##### sting "
   ]
  },
  {
   "cell_type": "code",
   "execution_count": 68,
   "id": "ec051334-a900-4936-931e-5bbf6c25b941",
   "metadata": {},
   "outputs": [
    {
     "name": "stdout",
     "output_type": "stream",
     "text": [
      "<class 'str'>\n"
     ]
    }
   ],
   "source": [
    "A= \"basha\"   # represents the values  in ' or \" \n",
    "B='shaik'\n",
    "print(type(A))"
   ]
  },
  {
   "cell_type": "markdown",
   "id": "bbeb7753-3322-4edc-a0d3-faa631dea37f",
   "metadata": {},
   "source": [
    "#### collection of D_types"
   ]
  },
  {
   "cell_type": "markdown",
   "id": "2f99a97d-498b-4baa-a2c2-5480b978ea1e",
   "metadata": {},
   "source": [
    "##### list"
   ]
  },
  {
   "cell_type": "code",
   "execution_count": 80,
   "id": "e204375f-d199-4b16-95e0-40a4799f10fe",
   "metadata": {},
   "outputs": [
    {
     "name": "stdout",
     "output_type": "stream",
     "text": [
      "<class 'list'>\n"
     ]
    }
   ],
   "source": [
    "list=[10,12.4,6+9j,False,\"python\"] # represents all fundamental d_types in []\n",
    "print(type(list))"
   ]
  },
  {
   "cell_type": "code",
   "execution_count": 86,
   "id": "ab56d981-9330-434c-afff-f68c4e5583d3",
   "metadata": {},
   "outputs": [
    {
     "name": "stdout",
     "output_type": "stream",
     "text": [
      "<class 'tuple'>\n"
     ]
    }
   ],
   "source": [
    "tuple=(10,12.4,6+9j,False,\"python\") # same as list but represents in () \n",
    "print(type(tuple))"
   ]
  },
  {
   "cell_type": "code",
   "execution_count": 90,
   "id": "bfd2f2c4-aa91-418b-8597-7a9e2a11eca9",
   "metadata": {},
   "outputs": [
    {
     "name": "stdout",
     "output_type": "stream",
     "text": [
      "<class 'set'>\n"
     ]
    }
   ],
   "source": [
    "S={20,40,60,80} # contains a gruop of elements in un_ordered manner \n",
    "print(type(S))"
   ]
  },
  {
   "cell_type": "code",
   "execution_count": 96,
   "id": "2efb1a18-ff23-4de2-8934-f0e4938a45af",
   "metadata": {},
   "outputs": [
    {
     "name": "stdout",
     "output_type": "stream",
     "text": [
      "<class 'dict'>\n"
     ]
    }
   ],
   "source": [
    "S={20:\"Age\",60000:\"salary\"} # here 20 is key , and age is value\n",
    "print(type(S))"
   ]
  },
  {
   "cell_type": "markdown",
   "id": "656f4f90-9506-4f51-ae9a-bd1f1b4e5451",
   "metadata": {},
   "source": [
    "#### 2nd_classification\n",
    "##### immutable\n",
    "###### APPEND "
   ]
  },
  {
   "cell_type": "code",
   "execution_count": 127,
   "id": "ec7c53c1-f283-4ee3-aae2-22726bc79c6b",
   "metadata": {},
   "outputs": [
    {
     "name": "stdout",
     "output_type": "stream",
     "text": [
      "(20, 40, 30, 60)\n"
     ]
    },
    {
     "ename": "AttributeError",
     "evalue": "'tuple' object has no attribute 'append'",
     "output_type": "error",
     "traceback": [
      "\u001b[1;31m---------------------------------------------------------------------------\u001b[0m",
      "\u001b[1;31mAttributeError\u001b[0m                            Traceback (most recent call last)",
      "Cell \u001b[1;32mIn[127], line 3\u001b[0m\n\u001b[0;32m      1\u001b[0m \u001b[38;5;28mlist\u001b[39m\u001b[38;5;241m=\u001b[39m \u001b[38;5;241m20\u001b[39m,\u001b[38;5;241m40\u001b[39m,\u001b[38;5;241m30\u001b[39m,\u001b[38;5;241m60\u001b[39m \u001b[38;5;66;03m# not able to modify data with same address in all fundamenta d_types and tuples\u001b[39;00m\n\u001b[0;32m      2\u001b[0m \u001b[38;5;28mprint\u001b[39m (\u001b[38;5;28mlist\u001b[39m)\n\u001b[1;32m----> 3\u001b[0m \u001b[38;5;28mlist\u001b[39m\u001b[38;5;241m.\u001b[39mappend(\u001b[38;5;241m55\u001b[39m)\n",
      "\u001b[1;31mAttributeError\u001b[0m: 'tuple' object has no attribute 'append'"
     ]
    }
   ],
   "source": [
    "list= 20,40,30,60 # not able to modify data with same address in all fundamenta d_types and tuples\n",
    "print (list)\n",
    "list.append(55)"
   ]
  },
  {
   "cell_type": "markdown",
   "id": "25b7ab71-3f27-4ffb-8030-e1db3c23c1a1",
   "metadata": {},
   "source": [
    "#### mutable"
   ]
  },
  {
   "cell_type": "code",
   "execution_count": 123,
   "id": "b3f30cac-1071-4c98-af79-d2d57b1b7a9d",
   "metadata": {},
   "outputs": [
    {
     "name": "stdout",
     "output_type": "stream",
     "text": [
      "[20, 40, 50, 70, 55]\n"
     ]
    }
   ],
   "source": [
    "list= [20,40,50,70]#applicalbe only for list, set, dict\n",
    "list.append(55) # able to add values to same address\n",
    "print(list)"
   ]
  },
  {
   "cell_type": "code",
   "execution_count": null,
   "id": "1a543cf1-d773-4dff-9292-fc628ad77518",
   "metadata": {},
   "outputs": [],
   "source": []
  }
 ],
 "metadata": {
  "kernelspec": {
   "display_name": "Python 3 (ipykernel)",
   "language": "python",
   "name": "python3"
  },
  "language_info": {
   "codemirror_mode": {
    "name": "ipython",
    "version": 3
   },
   "file_extension": ".py",
   "mimetype": "text/x-python",
   "name": "python",
   "nbconvert_exporter": "python",
   "pygments_lexer": "ipython3",
   "version": "3.12.4"
  }
 },
 "nbformat": 4,
 "nbformat_minor": 5
}
