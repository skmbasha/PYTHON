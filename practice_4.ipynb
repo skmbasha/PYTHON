{
 "cells": [
  {
   "cell_type": "markdown",
   "id": "867a54f1-1e7d-4c79-b20f-0bab7e13b7e6",
   "metadata": {},
   "source": [
    "#### Condtion statements\n",
    "##### If"
   ]
  },
  {
   "cell_type": "code",
   "execution_count": 7,
   "id": "606e1837-6fb4-4006-bfe6-4482a36663cb",
   "metadata": {},
   "outputs": [
    {
     "name": "stdout",
     "output_type": "stream",
     "text": [
      "Begin\n"
     ]
    },
    {
     "name": "stdin",
     "output_type": "stream",
     "text": [
      "enter a number 6\n"
     ]
    },
    {
     "name": "stdout",
     "output_type": "stream",
     "text": [
      "given number is 1 digit\n",
      "in if block\n",
      "6\n",
      "End\n"
     ]
    }
   ],
   "source": [
    "print (\"Begin\")\n",
    "n=int(input(\"enter a number\"))\n",
    "if n<10:\n",
    "    print (\"given number is 1 digit\")\n",
    "    print (\"in if block\")\n",
    "    print (n)\n",
    "    print (\"End\")"
   ]
  },
  {
   "cell_type": "code",
   "execution_count": 44,
   "id": "5f7d0e92-91c0-4ad2-821d-d24bad79dd03",
   "metadata": {},
   "outputs": [
    {
     "name": "stdin",
     "output_type": "stream",
     "text": [
      "enter a number 65\n"
     ]
    },
    {
     "name": "stdout",
     "output_type": "stream",
     "text": [
      "in if block\n",
      "65\n"
     ]
    }
   ],
   "source": [
    "n=int(input(\"enter a number\"))\n",
    "if n<100:\n",
    "    print (\"in if block\") # the statement is true then only it'll perform\n",
    "    print (n)"
   ]
  },
  {
   "cell_type": "markdown",
   "id": "4762ee65-8de0-4362-930f-98d00d19b342",
   "metadata": {},
   "source": [
    "##### if else"
   ]
  },
  {
   "cell_type": "code",
   "execution_count": 52,
   "id": "5c12c66d-74d4-4ad5-8da3-594ad5288cc0",
   "metadata": {},
   "outputs": [
    {
     "name": "stdin",
     "output_type": "stream",
     "text": [
      "enter a number 4\n"
     ]
    },
    {
     "name": "stdout",
     "output_type": "stream",
     "text": [
      "even number\n"
     ]
    }
   ],
   "source": [
    "n=int(input(\"enter a number\"))\n",
    "if n%2==0:\n",
    "    print (\"even number\")  # 4-even = 4%2=0\n",
    "else :\n",
    "    print (\"odd number\")  # 5-odd = 5%2!=0\n",
    "    print (n)"
   ]
  },
  {
   "cell_type": "markdown",
   "id": "f9f1aa6d-2f07-4346-949f-f097c14ba178",
   "metadata": {},
   "source": [
    "#### if.elif.else"
   ]
  },
  {
   "cell_type": "code",
   "execution_count": 88,
   "id": "a8f1231c-3efb-4f1e-aabf-e0312c21522c",
   "metadata": {},
   "outputs": [
    {
     "name": "stdin",
     "output_type": "stream",
     "text": [
      "enter a number 555\n"
     ]
    },
    {
     "name": "stdout",
     "output_type": "stream",
     "text": [
      "n is positive\n"
     ]
    }
   ],
   "source": [
    "n=int(input(\"enter a number\"))\n",
    "if n>100:\n",
    "    print (\"n is positive\")\n",
    "elif n<0:\n",
    "    print (\"n is negative\")\n",
    "else:\n",
    "    print (\"n is zero\")\n",
    "    "
   ]
  },
  {
   "cell_type": "code",
   "execution_count": 96,
   "id": "6e650451-c5d2-4203-bbcc-23620f46a695",
   "metadata": {},
   "outputs": [
    {
     "name": "stdin",
     "output_type": "stream",
     "text": [
      "enter a number 2\n"
     ]
    },
    {
     "name": "stdout",
     "output_type": "stream",
     "text": [
      "number is two\n"
     ]
    }
   ],
   "source": [
    "n=int(input(\"enter a number\"))\n",
    "if n==2:\n",
    "    print (\"number is two\")\n",
    "elif n<0:\n",
    "    print (\"n is negative\")\n",
    "else:\n",
    "    print (\"number in digits\")\n",
    "    "
   ]
  }
 ],
 "metadata": {
  "kernelspec": {
   "display_name": "Python 3 (ipykernel)",
   "language": "python",
   "name": "python3"
  },
  "language_info": {
   "codemirror_mode": {
    "name": "ipython",
    "version": 3
   },
   "file_extension": ".py",
   "mimetype": "text/x-python",
   "name": "python",
   "nbconvert_exporter": "python",
   "pygments_lexer": "ipython3",
   "version": "3.12.4"
  }
 },
 "nbformat": 4,
 "nbformat_minor": 5
}
