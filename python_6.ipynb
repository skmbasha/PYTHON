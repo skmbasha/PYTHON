{
 "cells": [
  {
   "cell_type": "markdown",
   "id": "f1a12a6b-c72e-47cf-b185-dd4d84b4c5c4",
   "metadata": {},
   "source": [
    "##### user name & password application"
   ]
  },
  {
   "cell_type": "code",
   "execution_count": 5,
   "id": "64191ece-d81d-422d-9162-f91a55c385c1",
   "metadata": {},
   "outputs": [
    {
     "name": "stdin",
     "output_type": "stream",
     "text": [
      "enter name: Basha\n",
      "enter password: Shaik@123\n"
     ]
    },
    {
     "name": "stdout",
     "output_type": "stream",
     "text": [
      "Acess Granted\n"
     ]
    }
   ],
   "source": [
    "while True:\n",
    "    u_name=input(\"enter name:\")\n",
    "    if u_name != \"Basha\":\n",
    "        continue\n",
    "    password=input(\"enter password:\")\n",
    "    if password==\"Shaik@123\":\n",
    "        break\n",
    "print (\"Acess Granted\")"
   ]
  },
  {
   "cell_type": "markdown",
   "id": "55cdab9c-ce82-4ad6-adb6-792dda88505f",
   "metadata": {},
   "source": [
    "##### funn()_______ function calling"
   ]
  },
  {
   "cell_type": "code",
   "execution_count": 37,
   "id": "4d57945d-1797-4bfc-8bf8-c8a8d49bc127",
   "metadata": {},
   "outputs": [
    {
     "name": "stdout",
     "output_type": "stream",
     "text": [
      "Begin\n",
      "Hellow user\n",
      "Hellow user\n",
      "Hellow user\n"
     ]
    }
   ],
   "source": [
    "print(\"Begin\")\n",
    "def fun():\n",
    "    print (\"Hellow user\")\n",
    "fun()\n",
    "fun()\n",
    "fun()"
   ]
  },
  {
   "cell_type": "code",
   "execution_count": null,
   "id": "eb346704-5c9c-498e-b6ae-6cd50a17bfb7",
   "metadata": {},
   "outputs": [],
   "source": []
  },
  {
   "cell_type": "code",
   "execution_count": null,
   "id": "70685e69-549c-4731-b563-1494ad6732c1",
   "metadata": {},
   "outputs": [],
   "source": []
  }
 ],
 "metadata": {
  "kernelspec": {
   "display_name": "Python 3 (ipykernel)",
   "language": "python",
   "name": "python3"
  },
  "language_info": {
   "codemirror_mode": {
    "name": "ipython",
    "version": 3
   },
   "file_extension": ".py",
   "mimetype": "text/x-python",
   "name": "python",
   "nbconvert_exporter": "python",
   "pygments_lexer": "ipython3",
   "version": "3.12.4"
  }
 },
 "nbformat": 4,
 "nbformat_minor": 5
}
