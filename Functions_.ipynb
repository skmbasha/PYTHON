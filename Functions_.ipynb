{
 "cells": [
  {
   "cell_type": "markdown",
   "id": "9a4feceb-2227-43cc-a2d5-31befffa159d",
   "metadata": {},
   "source": [
    "## Functions"
   ]
  },
  {
   "cell_type": "code",
   "execution_count": 25,
   "id": "9a39b656-6892-4c1c-81d2-4cc4827b35d0",
   "metadata": {},
   "outputs": [
    {
     "name": "stdout",
     "output_type": "stream",
     "text": [
      "Welcome to functions\n",
      "<function myfun at 0x000001D1232CACA0>\n",
      "Welcome to functions\n",
      "<function myfun at 0x000001D1232CACA0>\n"
     ]
    }
   ],
   "source": [
    "def myfun():\n",
    "    print (\"Welcome to functions\")\n",
    "myfun()\n",
    "print (myfun) # fun adress\n",
    "myvar=myfun  #leaking adress \n",
    "myvar()\n",
    "print(myvar) # var adress"
   ]
  },
  {
   "cell_type": "markdown",
   "id": "16b871fa-96c9-4b40-87ad-7e1ab993fbb2",
   "metadata": {},
   "source": [
    "##### 1. Assigning fun --- var"
   ]
  },
  {
   "cell_type": "code",
   "execution_count": 68,
   "id": "d8621723-aaa4-4aad-8e8a-82797be7b601",
   "metadata": {},
   "outputs": [
    {
     "name": "stdout",
     "output_type": "stream",
     "text": [
      "300\n"
     ]
    }
   ],
   "source": [
    "def add (a,b):\n",
    "    c=a+b   #leaking address\n",
    "    return c\n",
    "result=add(100,200)\n",
    "print (result)"
   ]
  },
  {
   "cell_type": "markdown",
   "id": "fe81aece-8d17-4966-af01-467501e09d0e",
   "metadata": {},
   "source": [
    "##### 2. defining fun inside another  fun () "
   ]
  },
  {
   "cell_type": "code",
   "execution_count": 70,
   "id": "7cdaa58c-5709-464a-80a0-861734361de6",
   "metadata": {},
   "outputs": [
    {
     "name": "stdout",
     "output_type": "stream",
     "text": [
      "Hello Buddy\n"
     ]
    }
   ],
   "source": [
    "def display ():\n",
    "    def msg ():\n",
    "        return \"Hello \" \n",
    "    return msg ()+ \"Buddy\"\n",
    "res=display() #leaking address\n",
    "print (res)"
   ]
  },
  {
   "cell_type": "markdown",
   "id": "27d9ddc1-3a7c-49da-b3a5-a21438251640",
   "metadata": {},
   "source": [
    "##### 3.fun as a parameter to another fun "
   ]
  },
  {
   "cell_type": "code",
   "execution_count": 82,
   "id": "1974b413-6442-4e3c-8cab-2a1fa89defd1",
   "metadata": {},
   "outputs": [
    {
     "name": "stdout",
     "output_type": "stream",
     "text": [
      "hellow How r uhh\n",
      "hellow How r uhh\n"
     ]
    }
   ],
   "source": [
    "def display (x):\n",
    "    res = x + \"How r uhh\"\n",
    "    return  res\n",
    "def fun ():\n",
    "        return \"hellow \"\n",
    "res=display(fun())\n",
    "print (res)\n",
    "print (res)"
   ]
  },
  {
   "cell_type": "markdown",
   "id": "70dcd6db-4d92-4dc0-a23c-3351945b7832",
   "metadata": {},
   "source": [
    "##### 4.fun as return value to another fun "
   ]
  },
  {
   "cell_type": "code",
   "execution_count": 96,
   "id": "38ea6d73-351d-418d-ac8a-d6939be542af",
   "metadata": {},
   "outputs": [
    {
     "name": "stdout",
     "output_type": "stream",
     "text": [
      "hello buddy\n"
     ]
    }
   ],
   "source": [
    "def display():\n",
    "    def msg():\n",
    "        return \"hello buddy\"\n",
    "    return msg ()\n",
    "res=display()\n",
    "print (res)    "
   ]
  }
 ],
 "metadata": {
  "kernelspec": {
   "display_name": "Python 3 (ipykernel)",
   "language": "python",
   "name": "python3"
  },
  "language_info": {
   "codemirror_mode": {
    "name": "ipython",
    "version": 3
   },
   "file_extension": ".py",
   "mimetype": "text/x-python",
   "name": "python",
   "nbconvert_exporter": "python",
   "pygments_lexer": "ipython3",
   "version": "3.12.4"
  }
 },
 "nbformat": 4,
 "nbformat_minor": 5
}
