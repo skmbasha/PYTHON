{
 "cells": [
  {
   "cell_type": "markdown",
   "id": "7e1edcf1-6baa-45bc-b272-d372561fde45",
   "metadata": {},
   "source": [
    "##### square"
   ]
  },
  {
   "cell_type": "code",
   "execution_count": 41,
   "id": "6285bef4-7dd7-49ec-a2c8-dc737d04f549",
   "metadata": {},
   "outputs": [
    {
     "name": "stdin",
     "output_type": "stream",
     "text": [
      "enter a number 3\n"
     ]
    },
    {
     "name": "stdout",
     "output_type": "stream",
     "text": [
      "9\n"
     ]
    }
   ],
   "source": [
    "var=lambda x:x*x\n",
    "m=int(input(\"enter a number\"))\n",
    "print (var(m))"
   ]
  },
  {
   "cell_type": "markdown",
   "id": "548df1b5-6a6b-4993-8a4d-30d89f08ee47",
   "metadata": {},
   "source": [
    "##### addition by lambdas"
   ]
  },
  {
   "cell_type": "code",
   "execution_count": 3,
   "id": "f418b33a-82cf-4c40-93fa-59621579659a",
   "metadata": {},
   "outputs": [
    {
     "name": "stdin",
     "output_type": "stream",
     "text": [
      "enter a number 56\n",
      "enter a number 44\n"
     ]
    },
    {
     "name": "stdout",
     "output_type": "stream",
     "text": [
      "100\n"
     ]
    }
   ],
   "source": [
    "addition=lambda a,b:a+b\n",
    "a=int(input(\"enter a number\"))\n",
    "b=int(input(\"enter a number\"))\n",
    "print (addition(a,b))"
   ]
  },
  {
   "cell_type": "markdown",
   "id": "a0ec9004-b1f9-4b41-9d20-af0aeb8e5437",
   "metadata": {},
   "source": [
    "##### substraction"
   ]
  },
  {
   "cell_type": "code",
   "execution_count": 5,
   "id": "59281f32-e112-47f1-a0f6-5fc64d536caa",
   "metadata": {},
   "outputs": [
    {
     "name": "stdin",
     "output_type": "stream",
     "text": [
      "enter a number 200\n",
      "enter a number 150\n"
     ]
    },
    {
     "name": "stdout",
     "output_type": "stream",
     "text": [
      "50\n"
     ]
    }
   ],
   "source": [
    "substraction=lambda a,b:a-b\n",
    "a=int(input(\"enter a number\"))\n",
    "b=int(input(\"enter a number\"))\n",
    "print (substraction(a,b))"
   ]
  },
  {
   "cell_type": "markdown",
   "id": "79997af6-4507-44a2-9208-6ba3964a9c28",
   "metadata": {},
   "source": [
    "##### to know \"Even\"(or) \"odd\""
   ]
  },
  {
   "cell_type": "code",
   "execution_count": 29,
   "id": "768f772b-4c98-4fa2-9c4b-dd274e29f573",
   "metadata": {},
   "outputs": [
    {
     "name": "stdin",
     "output_type": "stream",
     "text": [
      "enter a number 4\n"
     ]
    },
    {
     "name": "stdout",
     "output_type": "stream",
     "text": [
      "Even\n"
     ]
    }
   ],
   "source": [
    "var=lambda n:\"Even\" if n%2==0 else \"odd\"\n",
    "n=int(input(\"enter a number\"))\n",
    "print (var(n))"
   ]
  }
 ],
 "metadata": {
  "kernelspec": {
   "display_name": "Python 3 (ipykernel)",
   "language": "python",
   "name": "python3"
  },
  "language_info": {
   "codemirror_mode": {
    "name": "ipython",
    "version": 3
   },
   "file_extension": ".py",
   "mimetype": "text/x-python",
   "name": "python",
   "nbconvert_exporter": "python",
   "pygments_lexer": "ipython3",
   "version": "3.12.4"
  }
 },
 "nbformat": 4,
 "nbformat_minor": 5
}
