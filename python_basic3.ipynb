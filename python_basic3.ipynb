{
 "cells": [
  {
   "cell_type": "markdown",
   "id": "72799a16-3609-4ba2-9669-56e5f19a13ba",
   "metadata": {},
   "source": [
    "#### MEMBERSHIP_operations\n",
    "##### -IN\n",
    "##### - NOT IN"
   ]
  },
  {
   "cell_type": "code",
   "execution_count": 5,
   "id": "7b2c57fe-021d-4b3c-b868-daa5fee9fa9b",
   "metadata": {},
   "outputs": [
    {
     "name": "stdout",
     "output_type": "stream",
     "text": [
      "True\n"
     ]
    }
   ],
   "source": [
    "s=\"python\"\n",
    "print (\"p\" in s) # IN_OPERARETER"
   ]
  },
  {
   "cell_type": "code",
   "execution_count": 7,
   "id": "0d65afb1-459e-4a89-833d-694ac35466d8",
   "metadata": {},
   "outputs": [
    {
     "name": "stdout",
     "output_type": "stream",
     "text": [
      "False\n"
     ]
    }
   ],
   "source": [
    "s=\"python\"\n",
    "print (\"b\" in s) # NOT_IN_OPERARETER"
   ]
  },
  {
   "cell_type": "markdown",
   "id": "110731d8-e129-4a21-905d-f894aa3714f2",
   "metadata": {},
   "source": [
    "##### tuple_quote"
   ]
  },
  {
   "cell_type": "code",
   "execution_count": 14,
   "id": "188d8922-cc2e-4fcd-9378-a76a8d8e0f1a",
   "metadata": {},
   "outputs": [
    {
     "name": "stdout",
     "output_type": "stream",
     "text": [
      " python line 1\n",
      "    pythonn line2\n",
      "    python line3\n"
     ]
    }
   ],
   "source": [
    "print(\"\"\" python line 1\n",
    "    pythonn line2\n",
    "    python line3\"\"\")   # to write comnt or code more lines "
   ]
  },
  {
   "cell_type": "markdown",
   "id": "a9ccd699-93a8-4794-9413-834ef26a6a00",
   "metadata": {},
   "source": [
    "##### string_ indexing"
   ]
  },
  {
   "cell_type": "code",
   "execution_count": 32,
   "id": "b7c30044-285a-4a0c-9da4-eda2a1f7e48c",
   "metadata": {},
   "outputs": [
    {
     "name": "stdout",
     "output_type": "stream",
     "text": [
      "5\n",
      "B\n"
     ]
    }
   ],
   "source": [
    "Name= \"Basha\"   # index count starts from 'o'\n",
    "print(len(Name))\n",
    "print(Name[0])  "
   ]
  },
  {
   "cell_type": "markdown",
   "id": "43d40604-dc94-468a-ab47-e7a34dae8a2f",
   "metadata": {},
   "source": [
    "##### string slicing"
   ]
  },
  {
   "cell_type": "code",
   "execution_count": 61,
   "id": "7da0a11d-d718-46da-80f2-94ec9fb6c6db",
   "metadata": {},
   "outputs": [
    {
     "name": "stdout",
     "output_type": "stream",
     "text": [
      "20\n",
      "Mahaboob ba\n"
     ]
    }
   ],
   "source": [
    "Name= \"Shaik Mahaboob basha\"\n",
    "print(len(Name))\n",
    "print(Name[6:17]) #slicing in b/w range "
   ]
  },
  {
   "cell_type": "code",
   "execution_count": 71,
   "id": "b28f9eb2-988b-4f3d-85cb-b55926a5af7b",
   "metadata": {},
   "outputs": [
    {
     "name": "stdout",
     "output_type": "stream",
     "text": [
      "20\n",
      "haboob basha\n"
     ]
    }
   ],
   "source": [
    "Name= \"Shaik Mahaboob basha\"\n",
    "print(len(Name))\n",
    "print(Name[8:]) # except before given nummbers"
   ]
  },
  {
   "cell_type": "code",
   "execution_count": 77,
   "id": "576efa27-45c5-48eb-aa89-4168eb58dbb5",
   "metadata": {},
   "outputs": [
    {
     "name": "stdout",
     "output_type": "stream",
     "text": [
      "20\n",
      "Shaik Mahaboob basha\n"
     ]
    }
   ],
   "source": [
    "Name= \"Shaik Mahaboob basha\"\n",
    "print(len(Name))\n",
    "print(Name[::]) # gives total values"
   ]
  },
  {
   "cell_type": "code",
   "execution_count": 83,
   "id": "e21aafc6-7825-4bbd-8f56-1d13817268d8",
   "metadata": {},
   "outputs": [
    {
     "name": "stdout",
     "output_type": "stream",
     "text": [
      "20\n",
      "Shaik M\n"
     ]
    }
   ],
   "source": [
    "Name= \"Shaik Mahaboob basha\"\n",
    "print(len(Name))\n",
    "print(Name[:7]) # prints from 0 - given number "
   ]
  },
  {
   "cell_type": "markdown",
   "id": "0146b9b4-f5a3-4c67-a81a-00f7be208ae5",
   "metadata": {},
   "source": [
    "##### reverse_of_string"
   ]
  },
  {
   "cell_type": "code",
   "execution_count": 117,
   "id": "270ce59f-dc7f-4625-9e4d-d18bddb9bc8d",
   "metadata": {},
   "outputs": [
    {
     "name": "stdout",
     "output_type": "stream",
     "text": [
      "20\n",
      "ahsab boobahaM kiahS\n"
     ]
    }
   ],
   "source": [
    "Name= \"Shaik Mahaboob basha\"\n",
    "print(len(Name)) \n",
    "print(Name[::-1])# prints reverse to given  variable"
   ]
  },
  {
   "cell_type": "code",
   "execution_count": 129,
   "id": "9d2a0c47-bcc5-44e9-bf23-d4d802e5a61f",
   "metadata": {},
   "outputs": [
    {
     "name": "stdout",
     "output_type": "stream",
     "text": [
      "Shaik Mahaboob bashaShaik Mahaboob bashaShaik Mahaboob bashaShaik Mahaboob bashaShaik Mahaboob bashaShaik Mahaboob bashaShaik Mahaboob bashaShaik Mahaboob bashaShaik Mahaboob bashaShaik Mahaboob basha\n"
     ]
    }
   ],
   "source": [
    "Name= \"Shaik Mahaboob basha\"\n",
    "print(Name* 10)  # print in mutltiples of times"
   ]
  },
  {
   "cell_type": "markdown",
   "id": "8ee5c560-ff8e-4f77-9e87-0c79216cf3d7",
   "metadata": {},
   "source": [
    "##### inserting"
   ]
  },
  {
   "cell_type": "code",
   "execution_count": 181,
   "id": "07deec4c-7953-4f34-833a-d1fcd902478d",
   "metadata": {},
   "outputs": [
    {
     "name": "stdout",
     "output_type": "stream",
     "text": [
      "before [55, 22.3, 'computer']\n",
      "_____________________________\n",
      "[55, 22.3, 'computer', 8]\n"
     ]
    }
   ],
   "source": [
    "T=[55,22.3,\"computer\"]\n",
    "print(\"before\",T)   # in tuple not able to insert\n",
    "print(\"_____________________________\")\n",
    "T.insert(28,8)    # the second value is inserted \n",
    "print(T)"
   ]
  },
  {
   "cell_type": "markdown",
   "id": "f187e4c7-8b61-4df3-9100-8422bb88e87c",
   "metadata": {},
   "source": [
    "##### Replacing "
   ]
  },
  {
   "cell_type": "code",
   "execution_count": 219,
   "id": "fb2e84b7-83f6-4e14-be8d-84c503ffcce9",
   "metadata": {},
   "outputs": [
    {
     "name": "stdout",
     "output_type": "stream",
     "text": [
      "[55, 22.3, 'computer', 421, 1000, 520]\n"
     ]
    }
   ],
   "source": [
    "t=[55,22.3,\"computer\",100,1000,520]\n",
    "t[3]=421 # replcing by index number\n",
    "print(t)"
   ]
  },
  {
   "cell_type": "markdown",
   "id": "ddb5c2ac-347d-46cc-a47d-0820c8d82992",
   "metadata": {},
   "source": [
    "#### Deletion"
   ]
  },
  {
   "cell_type": "code",
   "execution_count": 486,
   "id": "600e99d2-4b58-4f95-8c3a-d5450fc73c84",
   "metadata": {},
   "outputs": [
    {
     "name": "stdout",
     "output_type": "stream",
     "text": [
      "[55, 22.3, 'computer', 100]\n"
     ]
    }
   ],
   "source": [
    "T=[55,22.3,\"computer\",100,1000,520]\n",
    "del T[4] #deletion done by index whole variable parmennantly\n",
    "print(T)"
   ]
  },
  {
   "cell_type": "markdown",
   "id": "05fa14d6-6732-47f1-a399-2bd7b347bd3d",
   "metadata": {},
   "source": [
    "### methods in list\n",
    "##### append"
   ]
  },
  {
   "cell_type": "code",
   "execution_count": 232,
   "id": "32e20c9a-ffed-446d-a45d-719d91fd7b72",
   "metadata": {},
   "outputs": [
    {
     "name": "stdout",
     "output_type": "stream",
     "text": [
      "[55, 22.3, 'computer', 100, 1000, 520, 56]\n"
     ]
    }
   ],
   "source": [
    "u=[55,22.3,\"computer\",100,1000,520]\n",
    "u.append(56)  # add new values \n",
    "print(u)"
   ]
  },
  {
   "cell_type": "markdown",
   "id": "a26a3eed-0164-48f2-b599-a1fe42b557f7",
   "metadata": {},
   "source": [
    "##### Clear"
   ]
  },
  {
   "cell_type": "code",
   "execution_count": 494,
   "id": "cbd46a55-e405-447f-9424-4553f564dd6f",
   "metadata": {},
   "outputs": [
    {
     "name": "stdout",
     "output_type": "stream",
     "text": [
      "[]\n"
     ]
    }
   ],
   "source": [
    "u=[55,22.3,\"computer\",100,1000,520]\n",
    "u.clear()  #the variable wil be still alive in memory\n",
    "print(u)"
   ]
  },
  {
   "cell_type": "markdown",
   "id": "c7acfc5b-33ec-4ee3-b8a3-8c8d4928c25a",
   "metadata": {},
   "source": [
    "#### copy"
   ]
  },
  {
   "cell_type": "code",
   "execution_count": 247,
   "id": "c1cde9b6-ee13-46f6-af49-5e86cd15bff1",
   "metadata": {},
   "outputs": [
    {
     "name": "stdout",
     "output_type": "stream",
     "text": [
      "u= [55, 22.3, 'computer', 100, 1000, 520]\n",
      "v= [55, 22.3, 'computer', 100, 1000, 520]\n"
     ]
    }
   ],
   "source": [
    "u=[55,22.3,\"computer\",100,1000,520]\n",
    "v=u.copy()\n",
    "print('u=',u)\n",
    "print('v=',v)"
   ]
  },
  {
   "cell_type": "code",
   "execution_count": 257,
   "id": "5fa1dfb6-e24c-4c43-93dc-ba5a26672763",
   "metadata": {},
   "outputs": [
    {
     "name": "stdout",
     "output_type": "stream",
     "text": [
      "[55, 22.3, 'computer', 100, 1000, 520]\n",
      "[55, 22.3, 'computer', 100, 1000, 520]\n"
     ]
    }
   ],
   "source": [
    "u=[55,22.3,\"computer\",100,1000,520]\n",
    "v=u.copy()\n",
    "print(u)\n",
    "print(v)"
   ]
  },
  {
   "cell_type": "markdown",
   "id": "84a63454-af80-45fa-a494-3d25c683cbf5",
   "metadata": {},
   "source": [
    "#### Count"
   ]
  },
  {
   "cell_type": "code",
   "execution_count": 528,
   "id": "b78e4100-9339-4645-b8b4-52d2581aa24b",
   "metadata": {},
   "outputs": [
    {
     "name": "stdout",
     "output_type": "stream",
     "text": [
      "1\n"
     ]
    }
   ],
   "source": [
    "a=[10,1.2,15,2,5555,\"pyhon\",5+6j,True]\n",
    "print (a.count(10))"
   ]
  },
  {
   "cell_type": "markdown",
   "id": "37e9c0e4-6fbd-4ed4-9974-af8cb4034485",
   "metadata": {},
   "source": [
    "##### index"
   ]
  },
  {
   "cell_type": "code",
   "execution_count": 461,
   "id": "eb06560c-a5ea-4258-a4eb-510b75530252",
   "metadata": {},
   "outputs": [
    {
     "name": "stdout",
     "output_type": "stream",
     "text": [
      "2\n",
      "3\n"
     ]
    }
   ],
   "source": [
    "a=[10,1.2,15,2,\"pyhon\",5+6j,True]\n",
    "b=[11,5.2,7,88,\"computer\",9+6j,False]\n",
    "print (a.index(15))\n",
    "print (b.index(88)) # to know index of values"
   ]
  },
  {
   "cell_type": "markdown",
   "id": "621c01b9-6a2e-4442-aa01-1deab625019a",
   "metadata": {},
   "source": [
    "#### extend"
   ]
  },
  {
   "cell_type": "code",
   "execution_count": 516,
   "id": "d533a3bf-0222-4cf6-a94c-43bef0b4ed4f",
   "metadata": {},
   "outputs": [
    {
     "name": "stdout",
     "output_type": "stream",
     "text": [
      "[10, 20, 40, 50, 50, 55, 77]\n"
     ]
    }
   ],
   "source": [
    "a=[10,20,40,50]\n",
    "b=[50,55,77]\n",
    "a.extend (b) # to extend values \n",
    "print (a)"
   ]
  },
  {
   "cell_type": "markdown",
   "id": "e2b5d55a-481d-4f2b-9c30-67368ad36586",
   "metadata": {},
   "source": [
    "##### pop"
   ]
  },
  {
   "cell_type": "code",
   "execution_count": 535,
   "id": "01cc60a9-1862-44b3-863e-fad267e786c6",
   "metadata": {},
   "outputs": [
    {
     "name": "stdout",
     "output_type": "stream",
     "text": [
      "[10, 20, 40, 50, 50, 55]\n"
     ]
    }
   ],
   "source": [
    "g=[10, 20, 40, 50, 50, 55, 77]\n",
    "g.pop()  # by defalut it'll remove last value in () we have pass values wana remove \n",
    "print (g)"
   ]
  },
  {
   "cell_type": "code",
   "execution_count": null,
   "id": "be5fc0fe-d73e-4520-8217-0ee4f1297ce9",
   "metadata": {},
   "outputs": [],
   "source": []
  },
  {
   "cell_type": "code",
   "execution_count": null,
   "id": "fe6e37f6-a3fa-421a-9267-c268f932aa72",
   "metadata": {},
   "outputs": [],
   "source": [
    " "
   ]
  }
 ],
 "metadata": {
  "kernelspec": {
   "display_name": "Python 3 (ipykernel)",
   "language": "python",
   "name": "python3"
  },
  "language_info": {
   "codemirror_mode": {
    "name": "ipython",
    "version": 3
   },
   "file_extension": ".py",
   "mimetype": "text/x-python",
   "name": "python",
   "nbconvert_exporter": "python",
   "pygments_lexer": "ipython3",
   "version": "3.12.4"
  }
 },
 "nbformat": 4,
 "nbformat_minor": 5
}
