{
 "cells": [
  {
   "cell_type": "markdown",
   "id": "07f21a95-179c-49a9-83d1-f3d65f594368",
   "metadata": {},
   "source": [
    "#### type_convertions"
   ]
  },
  {
   "cell_type": "code",
   "execution_count": 30,
   "id": "82e680db-8ff2-4fdc-a83d-6ccd52a1753e",
   "metadata": {},
   "outputs": [
    {
     "name": "stdout",
     "output_type": "stream",
     "text": [
      "<class 'int'>\n",
      "<class 'float'>\n"
     ]
    }
   ],
   "source": [
    "a=20\n",
    "print(type(a))\n",
    "a=float(a)   #int - float\n",
    "print (type(a))"
   ]
  },
  {
   "cell_type": "code",
   "execution_count": 36,
   "id": "d7c15307-3e55-40f4-a6ab-6169eaf668c1",
   "metadata": {},
   "outputs": [
    {
     "name": "stdout",
     "output_type": "stream",
     "text": [
      "<class 'float'>\n",
      "<class 'int'>\n"
     ]
    }
   ],
   "source": [
    "b=30.33\n",
    "print (type(b))\n",
    "b=int(b)   # float- int\n",
    "print (type(b))"
   ]
  },
  {
   "cell_type": "code",
   "execution_count": 52,
   "id": "76d00610-62ff-45ce-998e-e141d1a6d988",
   "metadata": {},
   "outputs": [
    {
     "name": "stdout",
     "output_type": "stream",
     "text": [
      "<class 'float'>\n",
      "<class 'str'>\n"
     ]
    }
   ],
   "source": [
    "c=70.9\n",
    "print (type(c))\n",
    "c=str(c)   #float-  string\n",
    "print (type(c))"
   ]
  },
  {
   "cell_type": "code",
   "execution_count": 58,
   "id": "7f2d394f-2d03-44b3-9b81-5b6b9a79d89f",
   "metadata": {},
   "outputs": [
    {
     "name": "stdout",
     "output_type": "stream",
     "text": [
      "<class 'int'>\n",
      "<class 'str'>\n"
     ]
    }
   ],
   "source": [
    "d=50\n",
    "print (type(d))\n",
    "d=str(d)     # int- str\n",
    "print (type(d))"
   ]
  },
  {
   "cell_type": "markdown",
   "id": "19e6c4f2-dd29-438a-92d6-e181c2e4c5cc",
   "metadata": {},
   "source": [
    "##### using % "
   ]
  },
  {
   "cell_type": "code",
   "execution_count": 115,
   "id": "59717c72-f778-46c8-b055-a425473605a3",
   "metadata": {},
   "outputs": [
    {
     "name": "stdout",
     "output_type": "stream",
     "text": [
      "my age is 21\n"
     ]
    }
   ],
   "source": [
    "a=21\n",
    "print(\"my age is %i\"%a)"
   ]
  },
  {
   "cell_type": "code",
   "execution_count": 137,
   "id": "8dda2106-0bbf-4317-970e-6e3a026c9d55",
   "metadata": {},
   "outputs": [
    {
     "name": "stdout",
     "output_type": "stream",
     "text": [
      "iam learning python with 1000.550000 rs in  4 months\n"
     ]
    }
   ],
   "source": [
    "a=4 # %I\n",
    "b=1000.55 # % f\n",
    "c=\"python\" # % s    # by calling with %\n",
    "print  (\"iam learning %s with %f rs in  %i months\"%(c,b,a))"
   ]
  },
  {
   "cell_type": "markdown",
   "id": "b2d9258e-bd24-4d9c-87fa-9ae8bd82c647",
   "metadata": {},
   "source": [
    "#### usinng f and {}"
   ]
  },
  {
   "cell_type": "code",
   "execution_count": 150,
   "id": "fa79fde4-0dc9-4ec7-bc92-eeb807b256d1",
   "metadata": {},
   "outputs": [
    {
     "name": "stdout",
     "output_type": "stream",
     "text": [
      "iam learning python with 5000 in 2 months\n"
     ]
    }
   ],
   "source": [
    "a=2\n",
    "b=5000\n",
    "c=\"python\"\n",
    "print (f\"iam learning {c} with {b} in {a} months\")  # f is syntax "
   ]
  },
  {
   "cell_type": "code",
   "execution_count": null,
   "id": "f95f5c3b-5220-4860-9792-4ac5c2c8b9fc",
   "metadata": {},
   "outputs": [],
   "source": []
  },
  {
   "cell_type": "code",
   "execution_count": null,
   "id": "3411b94c-a807-4127-b3cc-497c672c6476",
   "metadata": {},
   "outputs": [],
   "source": []
  },
  {
   "cell_type": "code",
   "execution_count": null,
   "id": "019242e0-8869-46b1-85ca-8ec2141a262a",
   "metadata": {},
   "outputs": [],
   "source": []
  }
 ],
 "metadata": {
  "kernelspec": {
   "display_name": "Python 3 (ipykernel)",
   "language": "python",
   "name": "python3"
  },
  "language_info": {
   "codemirror_mode": {
    "name": "ipython",
    "version": 3
   },
   "file_extension": ".py",
   "mimetype": "text/x-python",
   "name": "python",
   "nbconvert_exporter": "python",
   "pygments_lexer": "ipython3",
   "version": "3.12.4"
  }
 },
 "nbformat": 4,
 "nbformat_minor": 5
}
