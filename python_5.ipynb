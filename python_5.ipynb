{
 "cells": [
  {
   "cell_type": "markdown",
   "id": "09a99264-6f0a-4cb8-8e9d-5ad7e6fd0414",
   "metadata": {},
   "source": [
    "#### Loop stmnts\n",
    "##### While\n"
   ]
  },
  {
   "cell_type": "code",
   "execution_count": 24,
   "id": "29f9e8c5-6c4d-48ff-a83f-c94b1aa4a394",
   "metadata": {},
   "outputs": [
    {
     "name": "stdout",
     "output_type": "stream",
     "text": [
      "Let's start\n",
      "welcome to while loop 1\n",
      "Bye bye\n",
      "welcome to while loop 2\n",
      "Bye bye\n",
      "welcome to while loop 3\n",
      "Bye bye\n",
      "welcome to while loop 4\n",
      "Bye bye\n",
      "welcome to while loop 5\n",
      "Bye bye\n",
      "welcome to while loop 6\n",
      "Bye bye\n",
      "welcome to while loop 7\n",
      "Bye bye\n",
      "welcome to while loop 8\n",
      "Bye bye\n",
      "welcome to while loop 9\n",
      "Bye bye\n",
      "welcome to while loop 10\n",
      "Bye bye\n"
     ]
    }
   ],
   "source": [
    "print (\"Let's start\")\n",
    "i=1\n",
    "while i<=10: ## upto values wana print\n",
    "    print (\"welcome to while loop\",i)\n",
    "    i+=1 ### values wana print or skip\n",
    "    print (\"Bye bye\")"
   ]
  },
  {
   "cell_type": "code",
   "execution_count": null,
   "id": "9128f7a8-bbd9-47b2-9358-a8cc7973e063",
   "metadata": {},
   "outputs": [],
   "source": []
  },
  {
   "cell_type": "code",
   "execution_count": 62,
   "id": "996064b7-d841-4a4f-a716-85ec24bb3d5d",
   "metadata": {},
   "outputs": [
    {
     "name": "stdin",
     "output_type": "stream",
     "text": [
      "Enter Sarting number 4\n",
      "Enter end number 11\n"
     ]
    },
    {
     "name": "stdout",
     "output_type": "stream",
     "text": [
      "4\n",
      "5\n",
      "6\n",
      "7\n",
      "8\n",
      "9\n",
      "10\n",
      "11\n"
     ]
    }
   ],
   "source": [
    "m=int(input(\"Enter Sarting number\"))\n",
    "n=int(input(\"Enter end number\"))\n",
    "while m<=n:   # to get values in range\n",
    "    print (m)\n",
    "    m+=1  ##values wana print or skip"
   ]
  },
  {
   "cell_type": "markdown",
   "id": "bc5d125c-f13a-475f-8522-13199d2b0329",
   "metadata": {},
   "source": [
    "##### Break stmnts"
   ]
  },
  {
   "cell_type": "code",
   "execution_count": 69,
   "id": "eb5899eb-b659-4b29-a0be-0f226ae1e54c",
   "metadata": {},
   "outputs": [
    {
     "name": "stdout",
     "output_type": "stream",
     "text": [
      "welcome 0\n",
      "welcome 1\n",
      "welcome 2\n",
      "welcome 3\n",
      "welcome 4\n",
      "welcome 5\n",
      "welcome 6\n",
      "welcome 7\n",
      "welcome 8\n",
      "welcome 9\n"
     ]
    }
   ],
   "source": [
    "i=0 #starting values\n",
    "while True:\n",
    "    print (\"welcome\",i)\n",
    "    i+=1 # values wana print or skip\n",
    "    if  i==10: # to stop the values till that\n",
    "        break # key "
   ]
  },
  {
   "cell_type": "markdown",
   "id": "15e7e9d9-da03-4abf-9bb8-dd3d83eefc2e",
   "metadata": {},
   "source": [
    "#### For loop"
   ]
  },
  {
   "cell_type": "code",
   "execution_count": 71,
   "id": "26594bdd-ccc2-4653-899e-f7bbba67ba49",
   "metadata": {},
   "outputs": [
    {
     "name": "stdout",
     "output_type": "stream",
     "text": [
      "p\n",
      "y\n",
      "t\n",
      "h\n",
      "o\n",
      "n\n"
     ]
    }
   ],
   "source": [
    "s=\"python\"\n",
    "for i in s:\n",
    "    print (i)"
   ]
  },
  {
   "cell_type": "markdown",
   "id": "96dc8ec3-e107-4c0c-b74e-1b07a2e1c9fb",
   "metadata": {},
   "source": [
    "##### countinue stmnt"
   ]
  },
  {
   "cell_type": "code",
   "execution_count": 135,
   "id": "0934e031-2cd3-4693-b71f-37de138f1e7a",
   "metadata": {},
   "outputs": [
    {
     "name": "stdout",
     "output_type": "stream",
     "text": [
      "Hello user 1\n",
      "Hello user 2\n",
      "Hello user 3\n",
      "Hello user 4\n",
      "Hello user 5\n",
      "Hello user 6\n",
      "Hello user 8\n",
      "Hello user 9\n",
      "Hello user 10\n",
      "Hello user 11\n"
     ]
    }
   ],
   "source": [
    "i=0\n",
    "while i<=10: # values quantity \n",
    "    i+=1 #next value distance\n",
    "    if i==7:  # value wana skip\n",
    "        continue # key word\n",
    "    print (\"Hello user\",i)"
   ]
  }
 ],
 "metadata": {
  "kernelspec": {
   "display_name": "Python 3 (ipykernel)",
   "language": "python",
   "name": "python3"
  },
  "language_info": {
   "codemirror_mode": {
    "name": "ipython",
    "version": 3
   },
   "file_extension": ".py",
   "mimetype": "text/x-python",
   "name": "python",
   "nbconvert_exporter": "python",
   "pygments_lexer": "ipython3",
   "version": "3.12.4"
  }
 },
 "nbformat": 4,
 "nbformat_minor": 5
}
